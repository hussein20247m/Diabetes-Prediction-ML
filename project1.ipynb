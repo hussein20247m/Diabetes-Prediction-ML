{
 "cells": [
  {
   "cell_type": "code",
   "execution_count": 1,
   "id": "c1ff02bf",
   "metadata": {},
   "outputs": [],
   "source": [
    "import pandas as pd\n",
    "import numpy as np\n",
    "import matplotlib.pyplot as plt\n",
    "import seaborn as sns"
   ]
  },
  {
   "cell_type": "code",
   "execution_count": null,
   "id": "bf42021a",
   "metadata": {},
   "outputs": [],
   "source": [
    "df = pd.read_csv(\".csv\")"
   ]
  },
  {
   "cell_type": "code",
   "execution_count": 3,
   "id": "b1784604",
   "metadata": {},
   "outputs": [
    {
     "data": {
      "text/html": [
       "<div>\n",
       "<style scoped>\n",
       "    .dataframe tbody tr th:only-of-type {\n",
       "        vertical-align: middle;\n",
       "    }\n",
       "\n",
       "    .dataframe tbody tr th {\n",
       "        vertical-align: top;\n",
       "    }\n",
       "\n",
       "    .dataframe thead th {\n",
       "        text-align: right;\n",
       "    }\n",
       "</style>\n",
       "<table border=\"1\" class=\"dataframe\">\n",
       "  <thead>\n",
       "    <tr style=\"text-align: right;\">\n",
       "      <th></th>\n",
       "      <th>WorkoutTime</th>\n",
       "      <th>ReadingTime</th>\n",
       "      <th>PhoneTime</th>\n",
       "      <th>WorkHours</th>\n",
       "      <th>CaffeineIntake</th>\n",
       "      <th>RelaxationTime</th>\n",
       "      <th>SleepTime</th>\n",
       "    </tr>\n",
       "  </thead>\n",
       "  <tbody>\n",
       "    <tr>\n",
       "      <th>0</th>\n",
       "      <td>1.12</td>\n",
       "      <td>0.52</td>\n",
       "      <td>3.29</td>\n",
       "      <td>7.89</td>\n",
       "      <td>216.08</td>\n",
       "      <td>0.75</td>\n",
       "      <td>3.45</td>\n",
       "    </tr>\n",
       "    <tr>\n",
       "      <th>1</th>\n",
       "      <td>2.85</td>\n",
       "      <td>0.49</td>\n",
       "      <td>4.22</td>\n",
       "      <td>5.03</td>\n",
       "      <td>206.18</td>\n",
       "      <td>0.67</td>\n",
       "      <td>4.88</td>\n",
       "    </tr>\n",
       "    <tr>\n",
       "      <th>2</th>\n",
       "      <td>2.20</td>\n",
       "      <td>1.81</td>\n",
       "      <td>4.04</td>\n",
       "      <td>9.23</td>\n",
       "      <td>28.73</td>\n",
       "      <td>0.35</td>\n",
       "      <td>3.61</td>\n",
       "    </tr>\n",
       "    <tr>\n",
       "      <th>3</th>\n",
       "      <td>1.80</td>\n",
       "      <td>0.50</td>\n",
       "      <td>1.62</td>\n",
       "      <td>7.68</td>\n",
       "      <td>276.77</td>\n",
       "      <td>1.21</td>\n",
       "      <td>4.94</td>\n",
       "    </tr>\n",
       "    <tr>\n",
       "      <th>4</th>\n",
       "      <td>0.47</td>\n",
       "      <td>0.54</td>\n",
       "      <td>1.60</td>\n",
       "      <td>4.94</td>\n",
       "      <td>170.54</td>\n",
       "      <td>0.95</td>\n",
       "      <td>5.50</td>\n",
       "    </tr>\n",
       "  </tbody>\n",
       "</table>\n",
       "</div>"
      ],
      "text/plain": [
       "   WorkoutTime  ReadingTime  PhoneTime  WorkHours  CaffeineIntake  \\\n",
       "0         1.12         0.52       3.29       7.89          216.08   \n",
       "1         2.85         0.49       4.22       5.03          206.18   \n",
       "2         2.20         1.81       4.04       9.23           28.73   \n",
       "3         1.80         0.50       1.62       7.68          276.77   \n",
       "4         0.47         0.54       1.60       4.94          170.54   \n",
       "\n",
       "   RelaxationTime  SleepTime  \n",
       "0            0.75       3.45  \n",
       "1            0.67       4.88  \n",
       "2            0.35       3.61  \n",
       "3            1.21       4.94  \n",
       "4            0.95       5.50  "
      ]
     },
     "execution_count": 3,
     "metadata": {},
     "output_type": "execute_result"
    }
   ],
   "source": [
    "df.head()"
   ]
  },
  {
   "cell_type": "code",
   "execution_count": null,
   "id": "46b88af1",
   "metadata": {},
   "outputs": [],
   "source": []
  }
 ],
 "metadata": {
  "kernelspec": {
   "display_name": "base",
   "language": "python",
   "name": "python3"
  },
  "language_info": {
   "codemirror_mode": {
    "name": "ipython",
    "version": 3
   },
   "file_extension": ".py",
   "mimetype": "text/x-python",
   "name": "python",
   "nbconvert_exporter": "python",
   "pygments_lexer": "ipython3",
   "version": "3.12.7"
  }
 },
 "nbformat": 4,
 "nbformat_minor": 5
}
